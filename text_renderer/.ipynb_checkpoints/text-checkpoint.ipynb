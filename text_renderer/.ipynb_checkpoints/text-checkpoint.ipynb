{
 "cells": [
  {
   "cell_type": "code",
   "execution_count": 1,
   "metadata": {},
   "outputs": [],
   "source": [
    "import cv2\n",
    "from collections import defaultdict\n",
    "import numpy as np\n",
    "import matplotlib.pyplot as plt\n",
    "%matplotlib inline"
   ]
  },
  {
   "cell_type": "code",
   "execution_count": 13,
   "metadata": {},
   "outputs": [
    {
     "data": {
      "text/plain": [
       "(([], <a list of 0 Text xticklabel objects>),\n",
       " ([], <a list of 0 Text yticklabel objects>))"
      ]
     },
     "execution_count": 13,
     "metadata": {},
     "output_type": "execute_result"
    },
    {
     "data": {
      "image/png": "[encoded data removed]",
      "text/plain": [
       "<Figure size 432x288 with 1 Axes>"
      ]
     },
     "metadata": {},
     "output_type": "display_data"
    }
   ],
   "source": [
    "path = './output/default/00000000.jpg'\n",
    "img = cv2.imread(path,0) #直接读为灰度图像\n",
    "ret,thresh1 = cv2.threshold(img,200,255,cv2.THRESH_BINARY)\n",
    "ret,thresh2 = cv2.threshold(img,200,255,cv2.THRESH_BINARY_INV)\n",
    "ret,thresh3 = cv2.threshold(img,200,255,cv2.THRESH_TRUNC)\n",
    "ret,thresh4 = cv2.threshold(img,200,255,cv2.THRESH_TOZERO)\n",
    "ret,thresh5 = cv2.threshold(img,200,255,cv2.THRESH_TOZERO_INV)\n",
    "titles = ['img','BINARY','BINARY_INV','TRUNC','TOZERO','TOZERO_INV']\n",
    "images = [img,thresh1,thresh2,thresh3,thresh4,thresh5]\n",
    "i = 0\n",
    "plt.imshow(images[i],'gray')\n",
    "plt.title(titles[i])\n",
    "plt.xticks([]),plt.yticks([])\n"
   ]
  },
  {
   "cell_type": "code",
   "execution_count": 14,
   "metadata": {},
   "outputs": [
    {
     "data": {
      "text/plain": [
       "(([], <a list of 0 Text xticklabel objects>),\n",
       " ([], <a list of 0 Text yticklabel objects>))"
      ]
     },
     "execution_count": 14,
     "metadata": {},
     "output_type": "execute_result"
    },
    {
     "data": {
      "image/png": "[encoded data removed]",
      "text/plain": [
       "<Figure size 432x288 with 1 Axes>"
      ]
     },
     "metadata": {},
     "output_type": "display_data"
    }
   ],
   "source": [
    "i = 1\n",
    "plt.imshow(images[i],'gray')\n",
    "plt.title(titles[i])\n",
    "plt.xticks([]),plt.yticks([])"
   ]
  },
  {
   "cell_type": "code",
   "execution_count": 15,
   "metadata": {
    "scrolled": true
   },
   "outputs": [
    {
     "name": "stdout",
     "output_type": "stream",
     "text": [
      "[255.      207.1875  191.25    231.09375 231.09375 231.09375 199.21875\n",
      " 239.0625  255.      239.0625  247.03125 191.25    223.125   255.\n",
      " 255.      223.125   231.09375 231.09375 207.1875  231.09375 255.\n",
      " 215.15625 223.125   191.25    199.21875 223.125   207.1875  199.21875\n",
      " 223.125   231.09375 239.0625  239.0625  231.09375 223.125   191.25\n",
      " 231.09375 199.21875 175.3125  207.1875  207.1875  207.1875  231.09375\n",
      " 231.09375 175.3125  231.09375 215.15625 191.25    207.1875  175.3125\n",
      " 215.15625 191.25    231.09375 231.09375 207.1875  175.3125  231.09375\n",
      " 239.0625  207.1875  215.15625 215.15625 199.21875 223.125   247.03125\n",
      " 231.09375 215.15625 215.15625 223.125   207.1875  175.3125  231.09375\n",
      " 215.15625 223.125   239.0625  247.03125 215.15625 207.1875  207.1875\n",
      " 207.1875  223.125   223.125   199.21875 199.21875 231.09375 231.09375\n",
      " 255.      175.3125  239.0625  239.0625  239.0625  239.0625  239.0625\n",
      " 239.0625  183.28125 199.21875 255.      191.25    239.0625  199.21875\n",
      " 231.09375 231.09375 223.125   175.3125  223.125   223.125   239.0625\n",
      " 247.03125 215.15625 223.125   223.125   207.1875  223.125   175.3125\n",
      " 231.09375 223.125   223.125   247.03125 223.125   199.21875 239.0625\n",
      " 199.21875 183.28125 207.1875  215.15625 207.1875  183.28125 231.09375\n",
      " 247.03125 191.25    215.15625 231.09375 175.3125  199.21875 215.15625\n",
      " 215.15625 175.3125  223.125   239.0625  247.03125 207.1875  215.15625\n",
      " 215.15625 199.21875 191.25    215.15625 199.21875 199.21875 239.0625\n",
      " 255.      223.125   223.125   199.21875 215.15625 199.21875 223.125\n",
      " 215.15625 215.15625 239.0625  239.0625  223.125   207.1875  231.09375\n",
      " 167.34375 207.1875  207.1875  223.125   191.25    215.15625 207.1875\n",
      " 247.03125 255.      255.      255.      215.15625 215.15625 223.125\n",
      " 215.15625 207.1875  255.      215.15625 215.15625 231.09375 215.15625\n",
      " 215.15625 255.      207.1875  207.1875  247.03125 247.03125 207.1875\n",
      " 239.0625  247.03125 231.09375 215.15625 255.      191.25    183.28125\n",
      " 255.      223.125   215.15625 223.125   223.125   223.125   223.125\n",
      " 255.      231.09375 223.125   223.125   223.125   215.15625 247.03125\n",
      " 255.      247.03125 223.125   191.25    255.      255.      239.0625\n",
      " 223.125   223.125   231.09375 255.      223.125   207.1875  215.15625\n",
      " 199.21875 215.15625 255.      215.15625 231.09375 231.09375 215.15625\n",
      " 231.09375 255.      207.1875  231.09375 239.0625  223.125   207.1875\n",
      " 255.      183.28125 215.15625 231.09375 239.0625  207.1875  231.09375\n",
      " 239.0625  223.125   223.125   231.09375 255.      191.25    191.25\n",
      " 239.0625  231.09375 223.125   247.03125]\n"
     ]
    }
   ],
   "source": [
    "pix_mean = images[i].mean(axis=0)\n",
    "print(pix_mean)"
   ]
  },
  {
   "cell_type": "code",
   "execution_count": 22,
   "metadata": {
    "scrolled": true
   },
   "outputs": [],
   "source": [
    "thd = 240\n",
    "p_list = list()\n",
    "q_list = list()\n",
    "for i,m in enumerate(pix_mean):\n",
    "    if m >= thd:\n",
    "        p_list.append(i)\n",
    "        q_list.append(0)\n",
    "    else:\n",
    "        q_list.append(1)"
   ]
  },
  {
   "cell_type": "code",
   "execution_count": 23,
   "metadata": {},
   "outputs": [
    {
     "data": {
      "text/plain": [
       "(([], <a list of 0 Text xticklabel objects>),\n",
       " ([], <a list of 0 Text yticklabel objects>))"
      ]
     },
     "execution_count": 23,
     "metadata": {},
     "output_type": "execute_result"
    },
    {
     "data": {
      "image/png": "[encoded data removed]",
      "text/plain": [
       "<Figure size 432x288 with 1 Axes>"
      ]
     },
     "metadata": {},
     "output_type": "display_data"
    }
   ],
   "source": [
    "img2 = img.copy()\n",
    "img2[:,p_list]=100\n",
    "plt.imshow(img2,'gray')\n",
    "plt.xticks([]),plt.yticks([])"
   ]
  },
  {
   "cell_type": "code",
   "execution_count": 7,
   "metadata": {},
   "outputs": [],
   "source": [
    "dura_set = set()\n",
    "skip_set = set()\n",
    "dura_dict = defaultdict(list)\n",
    "count = 0\n",
    "for i,h in enumerate(q_list):\n",
    "    if q_list[i-1] == 0 and h == 1:\n",
    "        count += 1\n",
    "    elif q_list[i-1] == 1 and h == 0:\n",
    "        count += 1\n",
    "    if h > 0:\n",
    "        dura_set.add(count)\n",
    "        dura_dict[count].append(i)\n",
    "    else:\n",
    "        skip_set.add(count)\n",
    "        dura_dict[count].append(i)"
   ]
  },
  {
   "cell_type": "markdown",
   "metadata": {},
   "source": [
    "---"
   ]
  },
  {
   "cell_type": "markdown",
   "metadata": {},
   "source": [
    "需要迭代"
   ]
  },
  {
   "cell_type": "code",
   "execution_count": 8,
   "metadata": {},
   "outputs": [
    {
     "data": {
      "text/plain": [
       "16.125"
      ]
     },
     "execution_count": 8,
     "metadata": {},
     "output_type": "execute_result"
    }
   ],
   "source": [
    "tmp = list()\n",
    "for i in dura_set:\n",
    "    tmp.append(len(dura_dict[i]))\n",
    "tmp.remove(min(tmp))\n",
    "tmp.remove(max(tmp))\n",
    "mean_dur = sum(tmp)/len(tmp)\n",
    "# mean_dur = np.median(tmp)\n",
    "mean_dur"
   ]
  },
  {
   "cell_type": "code",
   "execution_count": 9,
   "metadata": {},
   "outputs": [],
   "source": [
    "p_list2 = p_list.copy()\n",
    "skip=set()\n",
    "for k in dura_dict:\n",
    "    if k in dura_set and k < len(dura_dict)-2 and k not in skip:\n",
    "        if len(dura_dict[k]) < mean_dur and len(dura_dict[k+1]) <= 3:\n",
    "            count = 0\n",
    "            wall = len(dura_dict[k+1])\n",
    "            while len(dura_dict[k]) < mean_dur and wall <=3:\n",
    "                count += 1\n",
    "                dura_dict[k].extend(dura_dict[k+count])\n",
    "                if count % 2:\n",
    "                    wall = len(dura_dict[k+count])\n",
    "                    if wall <= 3:\n",
    "                        for i in dura_dict[k+count]:\n",
    "                            p_list2.remove(i)\n",
    "                skip.add(k+count)"
   ]
  },
  {
   "cell_type": "markdown",
   "metadata": {},
   "source": [
    "---"
   ]
  },
  {
   "cell_type": "code",
   "execution_count": 10,
   "metadata": {},
   "outputs": [
    {
     "data": {
      "text/plain": [
       "(([], <a list of 0 Text xticklabel objects>),\n",
       " ([], <a list of 0 Text yticklabel objects>))"
      ]
     },
     "execution_count": 10,
     "metadata": {},
     "output_type": "execute_result"
    },
    {
     "data": {
      "image/png": "[encoded data removed]",
      "text/plain": [
       "<Figure size 432x288 with 1 Axes>"
      ]
     },
     "metadata": {},
     "output_type": "display_data"
    }
   ],
   "source": [
    "img2 = img.copy()\n",
    "img2[:,p_list2]=100\n",
    "plt.imshow(img2,'gray')\n",
    "plt.xticks([]),plt.yticks([])"
   ]
  },
  {
   "cell_type": "code",
   "execution_count": 11,
   "metadata": {
    "scrolled": true
   },
   "outputs": [
    {
     "data": {
      "image/png": "[encoded data removed]",
      "text/plain": [
       "<Figure size 432x288 with 1 Axes>"
      ]
     },
     "metadata": {},
     "output_type": "display_data"
    },
    {
     "data": {
      "image/png": "[encoded data removed]",
      "text/plain": [
       "<Figure size 432x288 with 1 Axes>"
      ]
     },
     "metadata": {},
     "output_type": "display_data"
    },
    {
     "data": {
      "image/png": "[encoded data removed]",
      "text/plain": [
       "<Figure size 432x288 with 1 Axes>"
      ]
     },
     "metadata": {},
     "output_type": "display_data"
    },
    {
     "data": {
      "image/png": "[encoded data removed]",
      "text/plain": [
       "<Figure size 432x288 with 1 Axes>"
      ]
     },
     "metadata": {},
     "output_type": "display_data"
    },
    {
     "data": {
      "image/png": "[encoded data removed]",
      "text/plain": [
       "<Figure size 432x288 with 1 Axes>"
      ]
     },
     "metadata": {},
     "output_type": "display_data"
    },
    {
     "data": {
      "image/png": "[encoded data removed]",
      "text/plain": [
       "<Figure size 432x288 with 1 Axes>"
      ]
     },
     "metadata": {},
     "output_type": "display_data"
    },
    {
     "data": {
      "image/png": "[encoded data removed]",
      "text/plain": [
       "<Figure size 432x288 with 1 Axes>"
      ]
     },
     "metadata": {},
     "output_type": "display_data"
    }
   ],
   "source": [
    "img2 = img.copy()\n",
    "for k in dura_set:\n",
    "    if k not in skip:\n",
    "        plt.imshow(img2[:,dura_dict[k]],'gray')\n",
    "        plt.xticks([]),plt.yticks([])\n",
    "        plt.show()"
   ]
  },
  {
   "cell_type": "markdown",
   "metadata": {},
   "source": [
    "---"
   ]
  },
  {
   "cell_type": "code",
   "execution_count": null,
   "metadata": {},
   "outputs": [],
   "source": [
    "def ClusterLines_Polar_returnPolar(lines, d_th=10):\n",
    "    line_set = []\n",
    "    rec = []\n",
    "    for i in range(len(lines)):\n",
    "        if i in rec:\n",
    "            continue\n",
    "        line = lines[i]\n",
    "        # print(line[0])\n",
    "        r, theta = CalcPolar(line)\n",
    "        # print(r, theta)\n",
    "        tmp = [[r,theta]]\n",
    "        rec.append(i)\n",
    "        for j, line_comp in enumerate(lines[i + 1:]):\n",
    "            r_c, theta_c = CalcPolar(line_comp)\n",
    "            # \n",
    "            d = dist((r, theta), (r_c, theta_c))\n",
    "            if d < d_th:\n",
    "                rec.append(i + j + 1)\n",
    "                tmp.append([r_c, theta_c])\n",
    "        line_set.append(tmp)\n",
    "    return line_set"
   ]
  },
  {
   "cell_type": "code",
   "execution_count": 25,
   "metadata": {},
   "outputs": [
    {
     "data": {
      "text/plain": [
       "defaultdict(set,\n",
       "            {0: {0, 1, 2},\n",
       "             1: {1, 2, 3},\n",
       "             2: {2, 3, 4},\n",
       "             3: {3, 4, 5},\n",
       "             4: {4, 5, 6},\n",
       "             5: {5, 6, 7},\n",
       "             6: {6, 7, 8},\n",
       "             7: {7, 8, 9},\n",
       "             8: {8, 9},\n",
       "             9: {9}})"
      ]
     },
     "execution_count": 25,
     "metadata": {},
     "output_type": "execute_result"
    }
   ],
   "source": [
    "from collections import defaultdict\n",
    "lineSetDict = defaultdict(set)\n",
    "\n",
    "for i in range(10):\n",
    "    lineSetDict[i].add(i)\n",
    "    for j in range(i,10):\n",
    "        if abs(i-j) <= 2:\n",
    "            lineSetDict[i].add(j)\n",
    "            \n",
    "lineSetDict"
   ]
  },
  {
   "cell_type": "code",
   "execution_count": 313,
   "metadata": {},
   "outputs": [],
   "source": [
    "import numpy as np\n",
    "from collections import defaultdict\n",
    "lines = np.random.rand(100)"
   ]
  },
  {
   "cell_type": "code",
   "execution_count": 338,
   "metadata": {
    "scrolled": false
   },
   "outputs": [
    {
     "name": "stdout",
     "output_type": "stream",
     "text": [
      "保存目标点 0 到 0\n",
      "目标点为 0 时 保存从点 14 到 0\n",
      "目标点为 0 时 保存从点 35 到 0\n",
      "目标点为 0 时 保存从点 39 到 0\n",
      "目标点为 0 时 保存从点 49 到 0\n",
      "目标点为 0 时 保存从点 53 到 0\n",
      "目标点为 0 时 保存从点 63 到 0\n",
      "目标点为 0 时 保存从点 64 到 0\n",
      "目标点为 0 时 保存从点 65 到 0\n",
      "目标点为 0 时 保存从点 79 到 0\n",
      "目标点为 0 时 保存从点 91 到 0\n",
      "保存目标点 1 到 1\n",
      "目标点为 1 时 保存从点 3 到 1\n",
      "目标点为 1 时 保存从点 17 到 1\n",
      "目标点为 1 时 保存从点 30 到 1\n",
      "目标点为 1 时 保存从点 43 到 1\n",
      "目标点为 1 时 保存从点 47 到 1\n",
      "目标点为 1 时 保存从点 57 到 1\n",
      "目标点为 1 时 保存从点 88 到 1\n",
      "保存目标点 2 到 1\n",
      "目标点为 2 时 保存从点 12 到 1\n",
      "目标点为 2 时 保存从点 16 到 1\n",
      "目标点为 2 时 保存从点 27 到 1\n",
      "目标点为 2 时 保存从点 48 到 1\n",
      "目标点为 2 时 保存从点 61 到 1\n",
      "目标点为 2 时 保存从点 77 到 1\n",
      "目标点为 2 时 保存从点 94 到 1\n",
      "目标点为 2 时 保存从点 96 到 1\n",
      "保存目标点 4 到 4\n",
      "目标点为 4 时 保存从点 13 到 4\n",
      "目标点为 4 时 保存从点 18 到 4\n",
      "目标点为 4 时 保存从点 23 到 4\n",
      "目标点为 4 时 保存从点 28 到 4\n",
      "目标点为 4 时 保存从点 45 到 4\n",
      "目标点为 4 时 保存从点 50 到 4\n",
      "目标点为 4 时 保存从点 52 到 4\n",
      "目标点为 4 时 保存从点 68 到 4\n",
      "目标点为 4 时 保存从点 69 到 4\n",
      "目标点为 4 时 保存从点 80 到 4\n",
      "目标点为 4 时 保存从点 86 到 4\n",
      "保存目标点 5 到 5\n",
      "目标点为 5 时 保存从点 6 到 5\n",
      "目标点为 5 时 保存从点 8 到 5\n",
      "目标点为 5 时 保存从点 22 到 5\n",
      "目标点为 5 时 保存从点 26 到 5\n",
      "目标点为 5 时 保存从点 31 到 5\n",
      "目标点为 5 时 保存从点 32 到 5\n",
      "目标点为 5 时 保存从点 36 到 5\n",
      "目标点为 5 时 保存从点 42 到 5\n",
      "目标点为 5 时 保存从点 51 到 5\n",
      "目标点为 5 时 保存从点 54 到 5\n",
      "目标点为 5 时 保存从点 55 到 5\n",
      "目标点为 5 时 保存从点 60 到 5\n",
      "目标点为 5 时 保存从点 74 到 5\n",
      "保存目标点 7 到 7\n",
      "目标点为 7 时 保存从点 21 到 7\n",
      "目标点为 7 时 保存从点 33 到 7\n",
      "目标点为 7 时 保存从点 34 到 7\n",
      "目标点为 7 时 保存从点 37 到 7\n",
      "目标点为 7 时 保存从点 46 到 7\n",
      "目标点为 7 时 保存从点 85 到 7\n",
      "目标点为 7 时 保存从点 95 到 7\n",
      "目标点为 7 时 保存从点 99 到 7\n",
      "保存目标点 9 到 7\n",
      "目标点为 9 时 保存从点 41 到 7\n",
      "目标点为 9 时 保存从点 56 到 7\n",
      "目标点为 9 时 保存从点 59 到 7\n",
      "目标点为 9 时 保存从点 67 到 7\n",
      "目标点为 9 时 保存从点 71 到 7\n",
      "保存目标点 10 到 10\n",
      "目标点为 10 时 保存从点 11 到 10\n",
      "目标点为 10 时 保存从点 15 到 10\n",
      "目标点为 10 时 保存从点 40 到 10\n",
      "目标点为 10 时 保存从点 62 到 10\n",
      "目标点为 10 时 保存从点 70 到 10\n",
      "目标点为 10 时 保存从点 73 到 10\n",
      "目标点为 10 时 保存从点 82 到 10\n",
      "目标点为 10 时 保存从点 84 到 10\n",
      "保存目标点 19 到 19\n",
      "目标点为 19 时 保存从点 20 到 19\n",
      "目标点为 19 时 保存从点 29 到 19\n",
      "目标点为 19 时 保存从点 38 到 19\n",
      "目标点为 19 时 保存从点 66 到 19\n",
      "目标点为 19 时 保存从点 72 到 19\n",
      "目标点为 19 时 保存从点 75 到 19\n",
      "目标点为 19 时 保存从点 78 到 19\n",
      "目标点为 19 时 保存从点 83 到 19\n",
      "目标点为 19 时 保存从点 89 到 19\n",
      "目标点为 19 时 保存从点 92 到 19\n",
      "目标点为 19 时 保存从点 93 到 19\n",
      "保存目标点 24 到 4\n",
      "保存目标点 25 到 7\n",
      "目标点为 25 时 保存从点 44 到 7\n",
      "目标点为 25 时 保存从点 76 到 7\n",
      "目标点为 25 时 保存从点 90 到 7\n",
      "保存目标点 58 到 0\n",
      "目标点为 58 时 保存从点 98 到 0\n",
      "保存目标点 81 到 1\n",
      "目标点为 81 时 保存从点 87 到 1\n",
      "保存目标点 97 到 19\n"
     ]
    }
   ],
   "source": [
    "lineSetDict = defaultdict(set) #线分类集合,key为基准线的线ID,value为与该基准线为同类的线ID集合\n",
    "record = set() #记录已分类的线ID\n",
    "thd = 0.05 #阈值\n",
    "\n",
    "for i,line in enumerate(lines): #遍历线\n",
    "    if i in record: #如果当前目标线已被分类,则跳过\n",
    "        continue\n",
    "    index = i #分类ID\n",
    "    flag = 0 #跳出多重循环的FLAG\n",
    "    if lineSetDict: #线分类集合非空,则进行以下步骤\n",
    "        for key,valueSet in lineSetDict.items(): #遍历线分类集合(主循环)\n",
    "            if flag == 1: #如果FLAG为1,则跳出遍历分类的循环\n",
    "                break #跳出主循环\n",
    "                \n",
    "            for value in valueSet.copy(): #遍历当前集合内所有线ID(子循环)\n",
    "                if abs(line-lines[value]) <= thd: #分类条件\n",
    "                    index = key #如果目标线i在当前集合中存在符合条件的同类线,则分类ID改为当前分类的key\n",
    "                    flag = 1 #跳出循环的FLAG设1\n",
    "                    break #跳出子循环\n",
    "    lineSetDict[index].add(i) #添加该目标线到该分类(GU:bug,缺少这句会导致独立分类丢失)\n",
    "    record.add(i) #添加目标线ID到记录中(GU:第一版忘记加上这一句,其实这句话不是很重要)\n",
    "\n",
    "    for j,line_c in enumerate(lines[i+1:]): #遍历从线        \n",
    "        if (i+j+1) in record: #如果当前从线已被分类,则跳过(GU:bug,应检测(i+j+1)是否已被分类)\n",
    "            continue\n",
    " \n",
    "        if abs(line-line_c) <= thd: #分类条件\n",
    "            lineSetDict[index].add(i+j+1) #添加该从线到当前目标线所属的分类\n",
    "            record.add(i+j+1) #记录从线ID\n",
    "            "
   ]
  },
  {
   "cell_type": "code",
   "execution_count": 339,
   "metadata": {
    "scrolled": true
   },
   "outputs": [
    {
     "name": "stdout",
     "output_type": "stream",
     "text": [
      "defaultdict(<class 'set'>, {0: {0, 64, 65, 35, 98, 39, 14, 79, 49, 53, 58, 91, 63}, 1: {96, 1, 2, 3, 43, 12, 77, 47, 16, 17, 48, 81, 87, 94, 88, 57, 27, 61, 30}, 19: {97, 66, 38, 72, 75, 78, 19, 20, 83, 93, 89, 92, 29}, 4: {4, 68, 69, 45, 13, 80, 18, 50, 52, 86, 23, 24, 28}, 5: {32, 36, 5, 6, 8, 42, 74, 51, 55, 22, 54, 26, 60, 31}, 7: {33, 34, 99, 67, 37, 7, 71, 9, 41, 44, 76, 46, 21, 85, 56, 25, 90, 59, 95}, 10: {70, 40, 73, 10, 11, 15, 82, 84, 62}})\n"
     ]
    }
   ],
   "source": [
    "print(lineSetDict)"
   ]
  },
  {
   "cell_type": "code",
   "execution_count": 340,
   "metadata": {},
   "outputs": [
    {
     "data": {
      "text/plain": [
       "100"
      ]
     },
     "execution_count": 340,
     "metadata": {},
     "output_type": "execute_result"
    }
   ],
   "source": [
    "len(lines)"
   ]
  },
  {
   "cell_type": "code",
   "execution_count": 341,
   "metadata": {},
   "outputs": [
    {
     "data": {
      "text/plain": [
       "100"
      ]
     },
     "execution_count": 341,
     "metadata": {},
     "output_type": "execute_result"
    }
   ],
   "source": [
    "count = 0\n",
    "for k,v in lineSetDict.items():\n",
    "    count += len(v)\n",
    "count"
   ]
  },
  {
   "cell_type": "code",
   "execution_count": 342,
   "metadata": {},
   "outputs": [],
   "source": [
    "for k,v in lineSetDict.items():\n",
    "    for k_,v_ in lineSetDict.items():\n",
    "        if (v&v_) and k!=k_:\n",
    "            print(k,k_,(v&v_))"
   ]
  },
  {
   "cell_type": "code",
   "execution_count": 343,
   "metadata": {},
   "outputs": [
    {
     "data": {
      "text/plain": [
       "(0.6597118472000466, 0.6172490060229104, 0.7213888810318212)"
      ]
     },
     "execution_count": 343,
     "metadata": {},
     "output_type": "execute_result"
    }
   ],
   "source": [
    "lines[86],lines[4],lines[19]"
   ]
  },
  {
   "cell_type": "code",
   "execution_count": 344,
   "metadata": {},
   "outputs": [
    {
     "data": {
      "text/plain": [
       "0.04246284117713617"
      ]
     },
     "execution_count": 344,
     "metadata": {},
     "output_type": "execute_result"
    }
   ],
   "source": [
    "lines[86]-lines[4]"
   ]
  },
  {
   "cell_type": "code",
   "execution_count": 345,
   "metadata": {},
   "outputs": [
    {
     "data": {
      "text/plain": [
       "-0.061677033831774586"
      ]
     },
     "execution_count": 345,
     "metadata": {},
     "output_type": "execute_result"
    }
   ],
   "source": [
    "lines[86]-lines[19]"
   ]
  },
  {
   "cell_type": "code",
   "execution_count": null,
   "metadata": {},
   "outputs": [],
   "source": []
  }
 ],
 "metadata": {
  "kernelspec": {
   "display_name": "Python 3",
   "language": "python",
   "name": "python3"
  },
  "language_info": {
   "codemirror_mode": {
    "name": "ipython",
    "version": 3
   },
   "file_extension": ".py",
   "mimetype": "text/x-python",
   "name": "python",
   "nbconvert_exporter": "python",
   "pygments_lexer": "ipython3",
   "version": "3.5.2"
  }
 },
 "nbformat": 4,
 "nbformat_minor": 2
}
